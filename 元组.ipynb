{
 "cells": [
  {
   "cell_type": "markdown",
   "id": "200730da-dd7b-43d2-8106-9f17bcf120df",
   "metadata": {},
   "source": [
    "# tuple元组"
   ]
  },
  {
   "cell_type": "markdown",
   "id": "1137f670-a555-4eda-bdbc-376efa314327",
   "metadata": {},
   "source": [
    "## 创建元组\n",
    "1. 使用`()`创建元组\n",
    "2. 使用`tuple()`函数创建元组:偏向于将某个类型转换为元组\n",
    "3. 元组 VS 列表：元组的元素不能修改，而列表的元素可以修改；元组使用`()`，列表使用`[]`\n",
    "4. 元组连接(合并)/复制"
   ]
  },
  {
   "cell_type": "code",
   "execution_count": 1,
   "id": "6d6af7d2-661c-4acc-8141-bbe80c0b041a",
   "metadata": {},
   "outputs": [
    {
     "data": {
      "text/plain": [
       "(10, 20, 30)"
      ]
     },
     "metadata": {},
     "output_type": "display_data"
    },
    {
     "name": "stdout",
     "output_type": "stream",
     "text": [
      "<class 'int'>\n",
      "<class 'tuple'>\n"
     ]
    }
   ],
   "source": [
    "# 使用`()`创建元组\n",
    "tuple1 = (10,20,30)\n",
    "display(tuple1)\n",
    "#若元素只有一个元素，需要在元素后加逗号\n",
    "tuple2 = (10)\n",
    "tuple3 = (10,)\n",
    "print(type(tuple2))\n",
    "print(type(tuple3))"
   ]
  },
  {
   "cell_type": "code",
   "execution_count": 2,
   "id": "c17cc9c5-e9f7-4369-8e61-d87e8875caab",
   "metadata": {},
   "outputs": [
    {
     "data": {
      "text/plain": [
       "('a', 'b', 'c')"
      ]
     },
     "metadata": {},
     "output_type": "display_data"
    },
    {
     "data": {
      "text/plain": [
       "(1, 2, 3)"
      ]
     },
     "metadata": {},
     "output_type": "display_data"
    }
   ],
   "source": [
    "# 使用`tuple()`函数创建元组:偏向于将某个类型转换为元组\n",
    "tuple2 = tuple({'a':11,'b':22,'c':33})\n",
    "tuple3 = tuple((1,2,3))\n",
    "display(tuple2)\n",
    "display(tuple3)"
   ]
  },
  {
   "cell_type": "code",
   "execution_count": 3,
   "id": "5ff56fb8-43ee-4a7e-abf3-0c079e088e05",
   "metadata": {},
   "outputs": [
    {
     "name": "stdout",
     "output_type": "stream",
     "text": [
      "(1, 2, 3, 'a', 'b', 'c')\n"
     ]
    }
   ],
   "source": [
    "# 元组连接\n",
    "x = (1,2,3)\n",
    "y = ('a','b','c')\n",
    "print(x+y)"
   ]
  },
  {
   "cell_type": "code",
   "execution_count": 4,
   "id": "1f280376-bdd1-4813-9e4b-f631b88e693d",
   "metadata": {},
   "outputs": [
    {
     "name": "stdout",
     "output_type": "stream",
     "text": [
      "('Hello', 'Hello', 'Hello', 'Hello', 'Hello')\n"
     ]
    }
   ],
   "source": [
    "# 元组复制*\n",
    "x = ('Hello',)\n",
    "print(x*5)"
   ]
  },
  {
   "cell_type": "code",
   "execution_count": 5,
   "id": "e689c56c-1224-4db7-bd28-16a336f45cc2",
   "metadata": {},
   "outputs": [
    {
     "name": "stdout",
     "output_type": "stream",
     "text": [
      "4410797504\n",
      "4410897984\n"
     ]
    }
   ],
   "source": [
    "# 元组值不可更改\n",
    "tup = ('A', 'B', 'C')\n",
    "print(id(tup))\n",
    "# 查看内存地址\n",
    "tup = (1, 2, 3)\n",
    "print(id(tup))"
   ]
  },
  {
   "cell_type": "markdown",
   "id": "e4baeee0-3531-43f1-b8cc-62d56718e2f6",
   "metadata": {},
   "source": [
    "> 从以上实例可以看出，重新赋值的元组 tup ，绑定到了新的对象了，不是修改了原来的对象。"
   ]
  },
  {
   "cell_type": "markdown",
   "id": "957bee77-ea70-47bd-a261-a307e792bcfa",
   "metadata": {},
   "source": [
    "若要更改元组值，可以先将元组转换为列表，更改列表值，然后再将其转换回元组。"
   ]
  },
  {
   "cell_type": "code",
   "execution_count": 6,
   "id": "8897b6e4-f9c6-4a80-b6f3-35b3ac4fe851",
   "metadata": {},
   "outputs": [
    {
     "name": "stdout",
     "output_type": "stream",
     "text": [
      "('apple', 'pear', 'banana')\n"
     ]
    }
   ],
   "source": [
    "fruit_tuple = ('apple', 'pear', 'cherry')\n",
    "fruit_list = list(fruit_tuple)\n",
    "fruit_list[2] = 'banana'\n",
    "fruit_tuple = tuple(fruit_list)\n",
    "print(fruit_tuple)"
   ]
  },
  {
   "cell_type": "markdown",
   "id": "5052b9de-2e3c-487f-8fa2-add8e7195951",
   "metadata": {},
   "source": [
    "## 访问元组"
   ]
  },
  {
   "cell_type": "markdown",
   "id": "9fffc40e-15d5-4253-adf7-1cf83c919ca1",
   "metadata": {},
   "source": [
    "1. 下标索引访问"
   ]
  },
  {
   "cell_type": "code",
   "execution_count": 7,
   "id": "dd6f05ec-f273-4b23-9fe0-b3af1c3313f5",
   "metadata": {},
   "outputs": [
    {
     "name": "stdout",
     "output_type": "stream",
     "text": [
      "wzq\n",
      "hxw\n"
     ]
    }
   ],
   "source": [
    "tuple_name = ('wzq', 'lgl', 'gz', 'whl', 'sj', 'hxw')\n",
    "print(tuple_name[0])\n",
    "print(tuple_name[-1])"
   ]
  },
  {
   "cell_type": "markdown",
   "id": "e8feecca-75b3-4484-b4db-9964d4e6cd80",
   "metadata": {},
   "source": [
    "2. 切片访问\n",
    "\n",
    "使用切片访问元组的格式为 `tuple_name[strat : end : step]` ，其中，`start` 表示起始索引，`end` 表示结束索引，`step` 表示步长。\n",
    "\n",
    "是左闭右开区间，即访问不了 `end` 代表的元素"
   ]
  },
  {
   "cell_type": "code",
   "execution_count": 8,
   "id": "e00049a6-d933-471e-bbdf-85a6fe839c31",
   "metadata": {},
   "outputs": [
    {
     "name": "stdout",
     "output_type": "stream",
     "text": [
      "('lgl', 'whl')\n",
      "('wzq', 'whl')\n"
     ]
    }
   ],
   "source": [
    "tuple_name = ('wzq', 'lgl', 'gz', 'whl', 'sj', 'hxw')\n",
    "print(tuple_name[1:5:2])\n",
    "print(tuple_name[-6:-1:3])"
   ]
  },
  {
   "cell_type": "markdown",
   "id": "d1cdaa8e-0f19-4752-a9f1-b6dadc28074f",
   "metadata": {},
   "source": [
    "3. `for`循环遍历元组"
   ]
  },
  {
   "cell_type": "code",
   "execution_count": 9,
   "id": "5ca02084-bf13-4aae-b953-a1236b53a05f",
   "metadata": {},
   "outputs": [
    {
     "name": "stdout",
     "output_type": "stream",
     "text": [
      "apple\n",
      "pear\n",
      "cherry\n"
     ]
    }
   ],
   "source": [
    "fruit_tuple = ('apple', 'pear', 'cherry')\n",
    "for i in fruit_tuple:\n",
    "    print(i)"
   ]
  },
  {
   "cell_type": "markdown",
   "id": "457d14b3-c3bf-4a02-9891-4981346c251f",
   "metadata": {},
   "source": [
    "4. 检查元素是否存在"
   ]
  },
  {
   "cell_type": "code",
   "execution_count": 10,
   "id": "1aabb0f8-28a6-4342-9ec4-4e332d80e846",
   "metadata": {},
   "outputs": [
    {
     "name": "stdout",
     "output_type": "stream",
     "text": [
      "True\n"
     ]
    }
   ],
   "source": [
    "# 检查元组中是否存在'apple'\n",
    "fruit_tuple = ('apple', 'pear', 'cherry')\n",
    "print('apple' in fruit_tuple)"
   ]
  },
  {
   "cell_type": "markdown",
   "id": "b7095c3d-96bd-441a-b885-716cd89c6050",
   "metadata": {},
   "source": [
    "## 内置函数\n",
    "1. `print()`\n",
    "2. `len()`\n",
    "3. `type()`\n",
    "4. `tuple()`\n",
    "5. `max()` `min()`\n",
    "6. `del 元组名` # del函数删除整个元组\n"
   ]
  },
  {
   "cell_type": "markdown",
   "id": "d02b85fa-8ffe-4914-aef5-0c6eb052a745",
   "metadata": {},
   "source": [
    "## 内置方法\n",
    "1. `count()` # 返回元组中指定值出现的次数\n",
    "2. `index()` # 在元组中搜索指定的值并返回它被找到的位置"
   ]
  }
 ],
 "metadata": {
  "kernelspec": {
   "display_name": "Python 3 (ipykernel)",
   "language": "python",
   "name": "python3"
  },
  "language_info": {
   "codemirror_mode": {
    "name": "ipython",
    "version": 3
   },
   "file_extension": ".py",
   "mimetype": "text/x-python",
   "name": "python",
   "nbconvert_exporter": "python",
   "pygments_lexer": "ipython3",
   "version": "3.11.10"
  }
 },
 "nbformat": 4,
 "nbformat_minor": 5
}
