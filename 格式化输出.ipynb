{
 "cells": [
  {
   "cell_type": "markdown",
   "id": "24fbeb68-92ca-4daa-bb1c-c48f15c2d798",
   "metadata": {},
   "source": [
    "# python格式化输出"
   ]
  },
  {
   "cell_type": "markdown",
   "id": "e1dad107-0d88-401a-9245-d9f35fd3bff9",
   "metadata": {},
   "source": [
    "## 占位符\n",
    "`%[key][flags][width][.precision][length type]conversion type`\n",
    "1. conversion type:主要有三个—— s(字符串)、d(十进制整数)、f(十进制浮点数,默认保留6位)\n",
    "2. precision：`.precision`设置精度\n",
    "3. key:映射的键，由带括号的字符序列组成,搭配字典的values使用"
   ]
  },
  {
   "cell_type": "code",
   "execution_count": 1,
   "id": "58aadf7e-0bb7-4366-b3fb-ea82a923ffae",
   "metadata": {},
   "outputs": [
    {
     "name": "stdout",
     "output_type": "stream",
     "text": [
      "hello  3  3.1415\n",
      "hello  3  3\n",
      "hello  3  3.141500\n",
      "hello  3.000000  3.141500\n"
     ]
    }
   ],
   "source": [
    "# conversion type\n",
    "print(\"%s  %s  %s\" % (\"hello\", 3, 3.1415))\n",
    "print(\"%s  %d  %d\" % (\"hello\", 3, 3.1415))\n",
    "print(\"%s  %d  %f\" % (\"hello\", 3, 3.1415))\n",
    "print(\"%s  %f  %f\" % (\"hello\", 3, 3.1415))"
   ]
  },
  {
   "cell_type": "code",
   "execution_count": 2,
   "id": "af97cabc-8a1a-4800-9f24-31de3fef6835",
   "metadata": {},
   "outputs": [
    {
     "name": "stdout",
     "output_type": "stream",
     "text": [
      "3.140000\n",
      "3.1\n",
      "3.14000000\n"
     ]
    }
   ],
   "source": [
    "# precision\n",
    "print('%f'%3.14)\n",
    "print('%.1f'%3.14)\n",
    "print('%.8f'%3.14)"
   ]
  },
  {
   "cell_type": "code",
   "execution_count": 3,
   "id": "a0da48df-5654-458e-ac0e-77dbe08f1d7a",
   "metadata": {},
   "outputs": [
    {
     "name": "stdout",
     "output_type": "stream",
     "text": [
      "lily\n"
     ]
    }
   ],
   "source": [
    "# key\n",
    "print('%(name)s'%{'name':'lily'})"
   ]
  },
  {
   "cell_type": "markdown",
   "id": "54bc2621-18fe-46dc-9110-4ad9bdd9e30c",
   "metadata": {},
   "source": [
    "## format\n",
    "format是字符串格式化方法之一，允许多个替换、值格式化\n",
    "`\"... {[field_name][!conversion][:format_spec]} ...\".format(arguments)\n",
    "`\n",
    "1. `arguments`:位置参数、关键字参数\n",
    "2. `field_name`: 选填。字段名，常使用其基础格式arg_name来指定使用arguments哪一个。对于关键词参数，arg_name必须为其中的关键字，（此时该字段是必填项）\n",
    "3. `conversion`:选填。变换，不常用。指定时要用!来开头，指定后会在格式化之前将arguments中对应的值进行类型变换。其有三个值可以指定，分别为s(`str`方法)、r(`repr`方法)、a(`ascii`方法)\n",
    "4. `format_spec`:选填，格式化具体规范，核心内容，超常用。填写时要用:来开头，填写后，会按照其指定的规则来进行格式化。\n",
    "\n",
    "其详细语法为\n",
    "\n",
    "`[[fill]align][sign][#][0][width][grouping_option][.precision][type]`\n",
    "- `fill`: 填充内容，如果指定了宽度，但变量长度不够，会使用该字段值进行填充。设置了fill，后面必须显式设置align。\n",
    "- `align`: 对齐方式，有以下值：`<`(强制左对齐)、`>`(强制右对齐)、`=`(强制将填充内容放在符号(如果有)之后但数字之前)、`^`(强制居中对齐)\n",
    "- `sign`:符号展现格式，仅对数字类型有效。有以下值：`+`、`-`、` `\n",
    "- `0`: 当没有设置对齐方式align时, 在宽度字段前面加一个零(‘0’)字符，将等价于填充字符fill为0且对齐方式align为`<`。\n",
    "- `width`: 最小字段宽度，不设置则字段宽度将始终与填充它的数据长度相同（此时对齐方式align没有意义）。\n",
    "- `grouping_option`: 分组选择，有两个选项可选:`,`(表示使用逗号作为千位分隔符)、`-`\n",
    "- `precision`: 精度,指定时要用.来开头,是一个十进制数，指定用’f’和’f’格式化的浮点值在小数点后应该显示多少位,即保留几位小数\n",
    "- `type`: 类型，决定数据应该如何显示。s(字符串)、d(十进制整数)、f(十进制浮点数,默认保留6位)"
   ]
  },
  {
   "cell_type": "code",
   "execution_count": 4,
   "id": "e6b5e175-15f8-4c0a-83a6-3e1493f571b2",
   "metadata": {},
   "outputs": [
    {
     "name": "stdout",
     "output_type": "stream",
     "text": [
      "Li hua 24\n",
      "Li hua 24 24 Li hua\n"
     ]
    }
   ],
   "source": [
    "# 位置参数\n",
    "print(\"{} {}\".format(\"Li hua\", 24))\n",
    "print(\"{0} {1} {1} {0}\".format(\"Li hua\", 24))"
   ]
  },
  {
   "cell_type": "code",
   "execution_count": 5,
   "id": "211d51fa-b3da-401a-a1f0-872721c91f55",
   "metadata": {},
   "outputs": [
    {
     "name": "stdout",
     "output_type": "stream",
     "text": [
      "Li hua 24\n",
      "Li hua 24 24 Li hua\n"
     ]
    }
   ],
   "source": [
    "# 关键字参数\n",
    "print(\"{name} {age}\".format(name=\"Li hua\", age=24))\n",
    "print(\"{name} {age} {age} {name}\".format(name=\"Li hua\", age=24))"
   ]
  },
  {
   "cell_type": "code",
   "execution_count": 6,
   "id": "99e1ae25-5ceb-4fe0-96ee-7ee867fb1bab",
   "metadata": {},
   "outputs": [
    {
     "name": "stdout",
     "output_type": "stream",
     "text": [
      "Li hua 24, Zhang san 24\n"
     ]
    }
   ],
   "source": [
    "print(\"{0[name]} {0[age]}, {1[0]} {1[1]}\".format({\"name\": \"Li hua\", \"age\": 24}, [\"Zhang san\",24]))"
   ]
  },
  {
   "cell_type": "code",
   "execution_count": 7,
   "id": "d8099326-0885-4385-a4d7-305d6eafb341",
   "metadata": {},
   "outputs": [
    {
     "name": "stdout",
     "output_type": "stream",
     "text": [
      "1   2     ,      3.14\n",
      "1        2,    3.14   \n",
      "1___000002,    3.14   \n",
      "1___000002,   3.1400  \n"
     ]
    }
   ],
   "source": [
    "# [:format_spec]\n",
    "print(\"{:4}{:6},{:10}\".format(\"1\", \"2\", 3.14))  # set width\n",
    "\n",
    "print(\"{:4}{:>6}, {:^10}\".format(\"1\", \"2\", 3.14))  # set width, align\n",
    "\n",
    "print(\"{:_<4}{:0>6}, {:^10}\".format(\"1\", \"2\", 3.14))  # set width, align, fill\n",
    "\n",
    "print(\"{:_<4}{:0>6}, {:^10.4f}\".format(\"1\", \"2\", 3.14))  # set width, align, fill, precision, type\n"
   ]
  },
  {
   "cell_type": "markdown",
   "id": "9634be7d-3be5-45eb-afe6-6ed221d4392d",
   "metadata": {},
   "source": [
    "## f-表达式\n",
    "f-表达式是前缀为“f”或\"F\"，用花括号{}包裹替换字段的字符串文字。\n",
    "\n",
    "其简易格式为： f'{name} is {age} years old'。\n",
    "f表达式中的字符串内容，是由任意个`literal_char`、`{{、}}`、`replacement_field`自由组成的\n",
    "\n",
    "`f'(literal_char | {{ | }} | replacement_field)*'`\n",
    "\n",
    "`F'(literal_char | {{ | }} | replacement_field)*'`\n",
    "\n",
    "- `literal_char`是除花括号{}外的任意字符或空\n",
    "- f表达式中要表示花括号{}文本，需要进行转义，转义方式为`{{, }}`\n",
    "- `replacement_field`是替换字段，是f表达式的核心,其格式是`{f_expression[=][!conversion][:format_spec]}`\n"
   ]
  },
  {
   "cell_type": "code",
   "execution_count": 8,
   "id": "9ed38964-e58d-46b4-8a4e-89c29896c1f0",
   "metadata": {},
   "outputs": [
    {
     "name": "stdout",
     "output_type": "stream",
     "text": [
      "line = 'The output will have the expression text'\n",
      "result:      12.35\n",
      "result:      12.35\n"
     ]
    }
   ],
   "source": [
    "line = \"The output will have the expression text\"\n",
    "print(f\"{line = }\" ) # use \"=\" sign, require python 3.8 or above\n",
    "width = 10\n",
    "precision = 4\n",
    "value = 12.34567\n",
    "print(f\"result: {value:{10}.{4}}\")  # set format_spec\n",
    "print(f\"result: {value:{width}.{precision}}\")  # nested fields\n"
   ]
  }
 ],
 "metadata": {
  "kernelspec": {
   "display_name": "Python 3 (ipykernel)",
   "language": "python",
   "name": "python3"
  },
  "language_info": {
   "codemirror_mode": {
    "name": "ipython",
    "version": 3
   },
   "file_extension": ".py",
   "mimetype": "text/x-python",
   "name": "python",
   "nbconvert_exporter": "python",
   "pygments_lexer": "ipython3",
   "version": "3.11.10"
  }
 },
 "nbformat": 4,
 "nbformat_minor": 5
}
