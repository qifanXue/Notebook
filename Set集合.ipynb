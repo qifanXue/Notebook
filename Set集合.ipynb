{
 "cells": [
  {
   "cell_type": "markdown",
   "id": "5458d34e-1d78-4ea4-a98f-9af38fd87e6d",
   "metadata": {},
   "source": [
    "# Set 集合"
   ]
  },
  {
   "cell_type": "markdown",
   "id": "23b4fbd2-7b68-4da5-b9ec-44a3eeb476cb",
   "metadata": {},
   "source": [
    "## 构造集合\n",
    "构造集合的方式：\n",
    "1. `{}` # 构造空集合不可以使用`{}`,因为`{}`是空字典\n",
    "2. `set()`函数"
   ]
  },
  {
   "cell_type": "code",
   "execution_count": 3,
   "id": "c759f5e8-adf1-4487-9898-7bbe2ac0a1f1",
   "metadata": {},
   "outputs": [
    {
     "name": "stdout",
     "output_type": "stream",
     "text": [
      "{'banana', 'grape', 'apple', 'orange'}\n"
     ]
    }
   ],
   "source": [
    "fruit = {'apple','banana','grape','orange','orange'}\n",
    "print(fruit)"
   ]
  },
  {
   "cell_type": "code",
   "execution_count": 4,
   "id": "2aa86242-f164-4e7c-ac97-10ff74e94888",
   "metadata": {},
   "outputs": [
    {
     "name": "stdout",
     "output_type": "stream",
     "text": [
      "{'d', 'c', 'a', 'v'}\n"
     ]
    }
   ],
   "source": [
    "basket = set(('a','v','c','d','d'))\n",
    "print(basket)"
   ]
  },
  {
   "cell_type": "markdown",
   "id": "3660cc1d-c5db-41b4-80d6-75de13a7d833",
   "metadata": {},
   "source": [
    "## 集合运算\n",
    "1. `a-b`：集合a中包含而集合b中不包含的元素\n",
    "2. `a|b`: 集合a或集合b中包含的所有元素\n",
    "3. `a&b`：集合a和集合b都包含的元素\n",
    "4. `a^b`：不同时在a和b中的元素"
   ]
  },
  {
   "cell_type": "code",
   "execution_count": 6,
   "id": "d9d4e103-a1c3-42d0-8b28-c334f55e92b6",
   "metadata": {},
   "outputs": [],
   "source": [
    "fruit2 =  {'apple','banana','pear'}"
   ]
  },
  {
   "cell_type": "code",
   "execution_count": 7,
   "id": "9d67536b-87b5-4c25-8fa0-cd13e2c3a220",
   "metadata": {},
   "outputs": [
    {
     "name": "stdout",
     "output_type": "stream",
     "text": [
      "{'grape', 'orange'}\n",
      "{'pear'}\n",
      "{'banana', 'grape', 'apple', 'orange', 'pear'}\n",
      "{'banana', 'apple'}\n",
      "{'grape', 'orange', 'pear'}\n"
     ]
    }
   ],
   "source": [
    "print(fruit-fruit2)\n",
    "print(fruit2-fruit)\n",
    "print(fruit|fruit2)\n",
    "print(fruit&fruit2)\n",
    "print(fruit^fruit2)"
   ]
  },
  {
   "cell_type": "markdown",
   "id": "76d54b0d-cc48-4287-8c05-99cfc94ab2aa",
   "metadata": {},
   "source": [
    "## 内置函数\n",
    "1. `len()`\n",
    "2. `type()`\n",
    "3. `del ***` # 删除整个集合\n",
    "4. `add()`\n",
    "5. `update()` # 可以添加元素或集合\n",
    "6. `remove()` # 移除某个指定元素\n",
    "7. `discard()` # 移除某个指定元素\n",
    "> remove() 方法在移除一个不存在的元素时会发生错误，而 discard() 方法不会。\n",
    "\n",
    "9. `pop()` # 随机移除一个元素，pop本该移除最后一项，但集合是无序的，所以随机\n",
    "10. `clear()` # 清空集合\n",
    "11. `union()` # 合并多个集合\n",
    "12. `copy()` # 浅拷贝，注意set的元素只能是不可变对象\n",
    "13. `isdisjoint()` # 判断两个集合是否包含相同的元素，没有返回 True，否则返回 False\n",
    "14. `intersection()` # 返回两个或更多集合中都包含的元素，即交集\n",
    "15. `intersection_update()` # 计算交集\n",
    "16. `issubset()` # `x.issubset(y)` 返回x是否是y的子集\n",
    "17. `issuperset()` # `x.issuperset(y)` 返回y是否是x的子集"
   ]
  }
 ],
 "metadata": {
  "kernelspec": {
   "display_name": "TF2",
   "language": "python",
   "name": "tf2"
  },
  "language_info": {
   "codemirror_mode": {
    "name": "ipython",
    "version": 3
   },
   "file_extension": ".py",
   "mimetype": "text/x-python",
   "name": "python",
   "nbconvert_exporter": "python",
   "pygments_lexer": "ipython3",
   "version": "3.9.0"
  }
 },
 "nbformat": 4,
 "nbformat_minor": 5
}
